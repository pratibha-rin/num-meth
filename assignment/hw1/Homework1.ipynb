{
 "cells": [
  {
   "cell_type": "code",
   "execution_count": 2,
   "metadata": {},
   "outputs": [],
   "source": [
    "%matplotlib inline\n",
    "import math\n",
    "import numpy as np\n",
    "from matplotlib import pyplot as plt"
   ]
  },
  {
   "cell_type": "markdown",
   "metadata": {},
   "source": [
    "# Homework"
   ]
  },
  {
   "cell_type": "markdown",
   "metadata": {},
   "source": [
    "## Problem 1\n",
    "\n",
    "Give me the solution to $x = e^{-x}$ that is $10^{-6}$ using bisection method.\n",
    "\n",
    "Pick the initial bound from the following and explain why you can't pick the other one.\n",
    "Bound A: (-1,0), Bound B (0,1)"
   ]
  },
  {
   "cell_type": "code",
   "execution_count": 172,
   "metadata": {},
   "outputs": [
    {
     "data": {
      "text/plain": [
       "0.567143290409784"
      ]
     },
     "execution_count": 172,
     "metadata": {},
     "output_type": "execute_result"
    },
    {
     "data": {
      "image/png": "[encoded data removed]",
      "text/plain": [
       "<matplotlib.figure.Figure at 0x11fcb19e8>"
      ]
     },
     "metadata": {},
     "output_type": "display_data"
    }
   ],
   "source": [
    "# using Bound B as the sign of f(0) and f(1) are opposite. Then there is a point c in [a,b] such that f(c) = 0.\n",
    "# Let x = 0.2 and x = 0.9 for starting bound which are within bound B.\n",
    "\n",
    "xs = np.linspace(0,1)\n",
    "ys = np.exp(-xs) - xs\n",
    "\n",
    "plt.plot(xs, ys, color = \"red\")\n",
    "plt.axvline(0.2,color= \"black\")\n",
    "plt.axvline(0.9,color= \"black\")\n",
    "plt.axhline(0, color=\"black\")\n",
    "plt.grid()\n",
    "\n",
    "# the solution is 0.55 +- 0.5 \n",
    "\n",
    "def bisection(f: 'Function' , lb: float, ub: float, n: int) -> float:\n",
    "    for i in range(n):\n",
    "        guess = (lb + ub )/2\n",
    "        y_left = f(lb)\n",
    "        y_right = f(ub)\n",
    "        y_guess = f(guess)\n",
    "        if y_left*y_guess < 0:\n",
    "            ub = guess\n",
    "        else:\n",
    "            lb = guess\n",
    "    return guess\n",
    "    \n",
    "def magic_function(x):\n",
    "    return np.exp(-x) - x\n",
    "\n",
    "bisection(f=magic_function,lb=0,ub=1,n=100)\n",
    "    \n",
    "\n"
   ]
  },
  {
   "cell_type": "markdown",
   "metadata": {},
   "source": [
    "## Problem 2\n",
    "Find all value of $x \\in [0,1]$ such that $f(x)=0$ for\n",
    "\n",
    "$f(x) = -0.000216747 + 0.0072868 x - 0.0977383 x^2 + 0.664685 x^3 - \n",
    " 2.40773 x^4 + 4.46766 x^5 - 3.7091 x^6 + x^7$\n",
    " \n",
    "Make sure your answers are at most $10^{-6}$ away from the real solution."
   ]
  },
  {
   "cell_type": "code",
   "execution_count": 173,
   "metadata": {},
   "outputs": [],
   "source": [
    "def f(x):\n",
    "    return -0.000216747 + 0.0072868*x - 0.0977383*x**2 + 0.664685*x**3 - 2.40773*x**4 + 4.46766*x**5 - 3.7091*x**6 + x**7\n"
   ]
  },
  {
   "cell_type": "markdown",
   "metadata": {},
   "source": [
    "2.1) Find all the local minima and maxima of the above function. How do you figure out whether it is a local maximum or local minimum"
   ]
  },
  {
   "cell_type": "code",
   "execution_count": 174,
   "metadata": {},
   "outputs": [
    {
     "data": {
      "image/png": "[encoded data removed]",
      "text/plain": [
       "<matplotlib.figure.Figure at 0x11fc8a828>"
      ]
     },
     "metadata": {},
     "output_type": "display_data"
    }
   ],
   "source": [
    "def diffx(x):\n",
    "    return 7*x**6 - 22.2546*x**5 + 22.3383*x**4 - 9.63092*x**3 + 1.99406*x**2 - 0.195477*x + 0.0072868\n",
    "\n",
    "def secdiff(x):\n",
    "    return 42*x**5 - 111.273*x**4 + 89.3532*x**3 - 28.8928*x**2 + 3.98812*x - 0.195477\n",
    "\n",
    "xs = np.linspace(0,1,100)\n",
    "ys = f(xs) \n",
    "plt.plot(xs,ys)\n",
    "plt.grid()\n",
    "\n",
    "# let x1,x2, x3,x4,x5 be the roots\n",
    "x1=bisection(f=diffx,lb=0.1,ub=0.2,n=100)\n",
    "x2=bisection(f=diffx,lb=0.2,ub=0.3,n=100)\n",
    "x3=bisection(f=diffx,lb=0.5,ub=0.9,n=100)\n",
    "\n",
    "#checking minima and maxima \n",
    "# print(secdiff(0.1914077548561996))\n",
    "# print(secdiff(0.2970656640545283))\n",
    "# print(secdiff(0.6817851344074184))\n",
    "\n",
    "# the minima is 0.2970656640545283\n",
    "# the maxima is 0.1914077548561996 and 0.6817851344074184\n"
   ]
  },
  {
   "cell_type": "markdown",
   "metadata": {},
   "source": [
    "2.2) What is the `global maximum` and `global minimum` of the function above within the range $x\\in[0,1]$"
   ]
  },
  {
   "cell_type": "code",
   "execution_count": 175,
   "metadata": {},
   "outputs": [
    {
     "name": "stdout",
     "output_type": "stream",
     "text": [
      "1.3690740374370985e-06\n",
      "0.003825808317243981\n",
      "-0.000216747\n",
      "-0.07515324699999937\n"
     ]
    }
   ],
   "source": [
    "#From the above answer we will compare maxima to get global maimum by putting it to the function\n",
    "\n",
    "print(f(0.1914077548561996))\n",
    "print(f(0.6817851344074184))\n",
    "print(f(0))\n",
    "print(f(1))\n",
    "\n",
    "#therfore the global maxima is 0.003825808317243981\n",
    "# and global minima is  -0.07515324699999937"
   ]
  },
  {
   "cell_type": "markdown",
   "metadata": {},
   "source": [
    "## Problem 3\n",
    "In quantum physics, when finding a bound state for a finite potential well one would end up with the following equation(Yes E is negative):\n",
    "\n",
    "$$\n",
    "\\sqrt{\\frac{-E}{E+V_0}} = \\tan \\sqrt{2m \\frac{E+V_0}{\\hbar^2} a}\n",
    "$$\n",
    "\n",
    "The goal is to find all Energy($E$) that satisfy this equation.\n",
    "For simplicity, let\n",
    "- $V_0 = 1$\n",
    "- $m = 1$\n",
    "- $a = 1$\n",
    "- $\\hbar = 1$(Yes this is called natural unit)\n",
    "\n",
    "$$\n",
    "    \\sqrt{\\frac{-E}{E+1}} = \\tan \\sqrt{2(E+1)}\n",
    "$$\n",
    "\n",
    "Find the value for $E\\in (-1.0, 0)$ which satisfy the equation above). Make sure you accuracy is $<\\pm10^{-4}$\n"
   ]
  },
  {
   "cell_type": "code",
   "execution_count": 176,
   "metadata": {
    "scrolled": true
   },
   "outputs": [
    {
     "data": {
      "text/plain": [
       "-0.6038978338633945"
      ]
     },
     "execution_count": 176,
     "metadata": {},
     "output_type": "execute_result"
    },
    {
     "data": {
      "image/png": "[encoded data removed]",
      "text/plain": [
       "<matplotlib.figure.Figure at 0x11fdad908>"
      ]
     },
     "metadata": {},
     "output_type": "display_data"
    }
   ],
   "source": [
    "def f(x):\n",
    "    return math.sqrt(-x/(x+1))\n",
    "def g(x):\n",
    "    return math.tan(math.sqrt(2*(x + 1)))\n",
    "\n",
    "xs = np.linspace(-0.999,-0.1, 100)\n",
    "fx = [f(x) for x in xs]\n",
    "gx = [g(x) for x in xs]\n",
    "plt.plot(xs,fx)\n",
    "plt.plot(xs,gx)\n",
    "\n",
    "def func(x):\n",
    "    return f(x)-g(x)\n",
    "\n",
    "bisection(f=func,lb=-0.8,ub=-0.4,n=100)"
   ]
  },
  {
   "cell_type": "markdown",
   "metadata": {},
   "source": [
    "## Problem 4\n",
    "Ply quit programming and decide to be a Apple(fruit) shop owner. He bought 1000 apples everyday and try to sell it. The probability $k$ customer want Ply's apple(one each) is given by Poisson distribution:\n",
    "\n",
    "$$\n",
    "    P(k; \\lambda) = \\frac{\\lambda^k \\exp(-\\lambda)}{k!}\n",
    "$$\n",
    "\n",
    "Where $\\lambda$ is an parameter that represent the mean of number of people that want Ply's apple each day.\n",
    "\n",
    "After selling apples for 2000 days Ply found that his 1000 apples a day are sold out 600 days out of 2000 days.\n",
    "\n",
    "The goal for this problem is to figure out how he should change the number of apples he bought in a day.\n",
    "\n",
    "- In case you are curious https://en.wikipedia.org/wiki/Poisson_distribution. The true distribution of this selling apple process should be binomial distribution but with large enough customer and low enough probability of an individual buying an apple this is an excellent approximatoin."
   ]
  },
  {
   "cell_type": "markdown",
   "metadata": {
    "collapsed": true
   },
   "source": [
    "4.1) You may find that if you try to code poisson distribution directly. It will not work with large number.\n",
    "$$\n",
    "    P(k; \\lambda) = \\frac{\\lambda^k \\exp(-\\lambda)}{k!}\n",
    "$$\n",
    "\n",
    "Explain briefly why python complains"
   ]
  },
  {
   "cell_type": "code",
   "execution_count": 201,
   "metadata": {},
   "outputs": [],
   "source": [
    "import math\n",
    "def bad_poisson(lmd, k):\n",
    "    return pow(lmd,k)*math.exp(-lmd)/math.factorial(k)\n",
    "#bad_poisson(1000,1000) # uncomment to see it breaks\n",
    "\n",
    "# because the int is too large to be convert to float."
   ]
  },
  {
   "cell_type": "markdown",
   "metadata": {},
   "source": [
    "4.2) A very useful trick to avoid this problem is to take log and exponentiate. That is\n",
    "\n",
    "$$\n",
    "    P(k; \\lambda) = \\exp\\left( \\ln \\left[ \\frac{\\lambda^k \\exp(-\\lambda)}{k!} \\right] \\right)\n",
    "$$\n",
    "\n",
    "First, show that\n",
    "$$\n",
    "    \\ln(P(k; \\lambda)) = (\\ldots \\ln(\\ldots)-\\ldots)-\\ln(k!)\n",
    "$$\n",
    "\n"
   ]
  },
  {
   "cell_type": "code",
   "execution_count": 200,
   "metadata": {},
   "outputs": [
    {
     "name": "stdout",
     "output_type": "stream",
     "text": [
      "0.03986099680914713\n",
      "0.039860996809147134\n"
     ]
    }
   ],
   "source": [
    "def P(k,lmd):\n",
    "    return math.exp(math.log(pow(lmd,k)*math.exp(-lmd)/math.factorial(k)))\n",
    "\n",
    "lhs= P(100,100)\n",
    "rhs= bad_poisson(100,100)\n",
    "print(lhs)\n",
    "print(rhs)"
   ]
  },
  {
   "cell_type": "markdown",
   "metadata": {},
   "source": [
    "4.3) $\\ln(k!)$ shows up everywhere in math. So most math library have `lgamma` function to compute this very fast.\n",
    "For example,\n",
    "\n",
    "`math.lgamma(5) == math.log(math.factorial(4))`\n",
    "\n",
    "Your job for this problem is to implement $P(k; \\lambda)$ using log-exp trick.\n",
    "\n",
    "If you do it right, $P(k=1000; \\mu=1000) \\approx 0.0126146$"
   ]
  },
  {
   "cell_type": "code",
   "execution_count": 199,
   "metadata": {},
   "outputs": [
    {
     "data": {
      "text/plain": [
       "0.012614611348719664"
      ]
     },
     "execution_count": 199,
     "metadata": {},
     "output_type": "execute_result"
    }
   ],
   "source": [
    "def P(k,lmd):\n",
    "    return math.exp(k*math.log(lmd)- lmd - math.lgamma(k+1))\n",
    "P(1000,1000)\n",
    "\n"
   ]
  },
  {
   "cell_type": "markdown",
   "metadata": {},
   "source": [
    "4.4) Now here is the fun part. Suppose that $\\lambda = 987.6$(this is not true). Find the probability that Ply will sell all his 1000 apples. (Remember if 2000 people want Ply's apple, he his apple will also be sold out). \n",
    "\n",
    "And No, summing up to infinity is not practical."
   ]
  },
  {
   "cell_type": "code",
   "execution_count": 198,
   "metadata": {},
   "outputs": [
    {
     "name": "stdout",
     "output_type": "stream",
     "text": [
      "0.3507846581670552\n"
     ]
    }
   ],
   "source": [
    "sum = 0\n",
    "for i in range(1000):\n",
    "    sum = sum + P(i,987.6)\n",
    "    ans = 1 - sum\n",
    "print(ans)"
   ]
  },
  {
   "cell_type": "markdown",
   "metadata": {},
   "source": [
    "4.5) Recall the information that\n",
    "\n",
    "After selling apples for 2000 days Ply found that his 1000 apples a day are sold out 600 days out of 2000 days.\n",
    "\n",
    "Find the value for $\\lambda$ to a decent accuracy($<\\pm 0.1$)"
   ]
  },
  {
   "cell_type": "code",
   "execution_count": null,
   "metadata": {},
   "outputs": [],
   "source": []
  },
  {
   "cell_type": "markdown",
   "metadata": {},
   "source": [
    "4.6) Using $\\lambda$ you found in 4.5).\n",
    "\n",
    "Ply bounght apple for 20 Baht each and he sell it for 50 Baht each. Which means that for each apple he sells he make a profit of 30 baht. But, at the end of each day Ply has to trash all unsold Apples(taking a loss of 20 Baht each).\n",
    "\n",
    "If Ply bought 1000 apples a day, what would be his expected profit(remember expected value from discrete math/stat/quantum?)."
   ]
  },
  {
   "cell_type": "code",
   "execution_count": null,
   "metadata": {},
   "outputs": [],
   "source": []
  },
  {
   "cell_type": "markdown",
   "metadata": {},
   "source": [
    "4.7) Using $\\lambda$ you found in 4.5) Find the number of apple Ply should buy in a day to maximize his expected profit."
   ]
  },
  {
   "cell_type": "code",
   "execution_count": null,
   "metadata": {},
   "outputs": [],
   "source": []
  },
  {
   "cell_type": "markdown",
   "metadata": {},
   "source": [
    "## Problem 5\n",
    "\n",
    "Full Width at Half Maximum(FWHM). Distribution width is a very important quantity. It tells you how wide a the distribution is. One way to do that is to use a quantity called full-width half max.\n",
    "\n",
    "This is the width of the distribution at half maximum. \n",
    "\n",
    "For example for distribution shown below the maximum is at x=0.0 and y=1.0\n",
    "\n",
    "The maximum of this distribution is 1.0. So we are interested in the width of the distribution when the value of the distribution is 1.0/2=0.5\n",
    "\n",
    "The width of the distribution is shown in black line. In this case it's about 2.35"
   ]
  },
  {
   "cell_type": "code",
   "execution_count": 197,
   "metadata": {},
   "outputs": [
    {
     "data": {
      "text/plain": [
       "Text(0,0.3,'FWHM')"
      ]
     },
     "execution_count": 197,
     "metadata": {},
     "output_type": "execute_result"
    },
    {
     "data": {
      "image/png": "[encoded data removed]",
      "text/plain": [
       "<matplotlib.figure.Figure at 0x11f2534e0>"
      ]
     },
     "metadata": {},
     "output_type": "display_data"
    }
   ],
   "source": [
    "import math\n",
    "def demo(x):\n",
    "    return math.exp(-x**2/2.0)\n",
    "x = np.linspace(-3,3)\n",
    "y = [demo(xx) for xx in x]\n",
    "plt.plot(x,y)\n",
    "plt.axhline(0.5, color='red')\n",
    "\n",
    "plt.axvline(2.355/2,color='red',linestyle='dashed')\n",
    "plt.axvline(-2.355/2,color='red',linestyle='dashed')\n",
    "\n",
    "plt.grid()\n",
    "plt.annotate(\n",
    "    '', xy=(-2.355/2, 0.4), xycoords='data',\n",
    "    xytext=(2.355/2, 0.4), textcoords='data',\n",
    "    arrowprops={'arrowstyle': '<->'})\n",
    "plt.text(0,0.3,'FWHM',horizontalalignment ='center')\n"
   ]
  },
  {
   "cell_type": "markdown",
   "metadata": {},
   "source": [
    "5.1)Find FWHM of the following function. Make sure the bound on error of the FWHM is less than $10^{-4}$."
   ]
  },
  {
   "cell_type": "code",
   "execution_count": 196,
   "metadata": {
    "scrolled": true
   },
   "outputs": [
    {
     "data": {
      "text/plain": [
       "Text(2.5,0.1,'FWHM')"
      ]
     },
     "execution_count": 196,
     "metadata": {},
     "output_type": "execute_result"
    },
    {
     "data": {
      "image/png": "[encoded data removed]",
      "text/plain": [
       "<matplotlib.figure.Figure at 0x120b533c8>"
      ]
     },
     "metadata": {},
     "output_type": "display_data"
    }
   ],
   "source": [
    "import math\n",
    "def f(x, gamma=3.1):\n",
    "    mu = 2.345\n",
    "    return gamma/((x-mu)**2+gamma**2)\n",
    "x = np.linspace(-10,10,200)\n",
    "y = [f(xx) for xx in x]\n",
    "plt.plot(x,y)\n",
    "plt.grid()\n",
    "\n",
    "def firstdev(x):\n",
    "    return (-6.2*(-2.345 + x))/(9.61 + (-2.345 + x)**2)**2 \n",
    "\n",
    "pointX = bisection(f=firstdev,lb=0,ub=5,n=100)\n",
    "pointY = f(pointX,gamma=3.1)\n",
    "plt.axhline(pointY/2, color='red')\n",
    "\n",
    "#print(bisection(f=firstdev,lb=0,ub=5,n=100)) # we get x here 2.3450000000000006\n",
    "#print(f(2.3450000000000006,gamma=3.1)) #we get y 0.3225806451612903\n",
    "\n",
    "\n",
    "def newfunc(x):\n",
    "    return f(x,gamma=3.1)-(pointY/2)\n",
    "\n",
    "# print(bisection(f=newfunc,lb=-2.5,ub=0,n=10))\n",
    "# print(bisection(f=newfunc,lb=5,ub=7.5,n=10))\n",
    "intercept1 = bisection(f=newfunc,lb=-2.5,ub=0,n=10)\n",
    "intercept2 = bisection(f=newfunc,lb=5,ub=7.5,n=10)\n",
    "plt.axvline(intercept1,color='red',linestyle='dashed')\n",
    "plt.axvline(intercept2,color='red',linestyle='dashed')\n",
    "plt.annotate(\n",
    "    '', xy=(intercept1, 0.13), xycoords='data',\n",
    "    xytext=(intercept2, 0.13), textcoords='data',\n",
    "    arrowprops={'arrowstyle': '<->'})\n",
    "plt.text(2.5,0.10,'FWHM',horizontalalignment ='center')\n",
    "\n",
    "# The FWHM is 6.201171875"
   ]
  },
  {
   "cell_type": "markdown",
   "metadata": {},
   "source": [
    "5.2) Plot FWHM(y-axis) as a function of $\\gamma$(gamma) from $\\gamma=0.5\\ldots 3$. Make sure you have at least 30 points."
   ]
  },
  {
   "cell_type": "code",
   "execution_count": 3,
   "metadata": {},
   "outputs": [
    {
     "name": "stdout",
     "output_type": "stream",
     "text": [
      "[0.9951464843749998, 1.1812988281249994, 1.3283886718749995, 1.5145410156249992, 1.7006933593749998, 1.8627343749999994, 2.0488867187499995, 2.1959765624999994, 2.38212890625, 2.5441699218749996, 2.7303222656250004, 2.9015234374999994, 3.0635644531249997, 3.249716796875, 3.4117578124999994, 3.582958984375, 3.744999999999999, 3.93115234375, 4.117304687500001, 4.26439453125, 4.450546875, 4.612587890624999, 4.798740234375, 4.96078125, 5.1319824218750005, 5.318134765625, 5.48017578125, 5.666328125, 5.8134179687500005, 5.9995703125]\n"
     ]
    },
    {
     "data": {
      "image/png": "[encoded data removed]",
      "text/plain": [
       "<matplotlib.figure.Figure at 0x10ff3bf60>"
      ]
     },
     "metadata": {},
     "output_type": "display_data"
    }
   ],
   "source": [
    "def f(x, gamma):\n",
    "    mu = 2.345\n",
    "    return gamma/((x-mu)**2+gamma**2)\n",
    " \n",
    "def newfunc(x,gamma):\n",
    "    return f(x,gamma)-(f(2.345,gamma)/2)\n",
    "\n",
    "def newbisection(f: 'Function' , lb: float, ub: float, n: int, g: float) -> float:\n",
    "    for i in range(n):\n",
    "        guess = (lb + ub )/2\n",
    "        y_left = f(lb,g)\n",
    "        y_right = f(ub,g)\n",
    "        y_guess = f(guess,g)\n",
    "        if y_left*y_guess < 0:\n",
    "            ub = guess\n",
    "        else:\n",
    "            lb = guess\n",
    "    return guess\n",
    "\n",
    "def bigFunc(func,x,gamma):\n",
    "    intercept1 = newbisection(f=func,lb=-10,ub=2.345,n=10,g= gamma)\n",
    "    intercept2 = newbisection(f=func,lb=2.345,ub=10,n=10,g= gamma)\n",
    "    return intercept2-intercept1\n",
    "\n",
    "x = np.linspace(-10,10,30)\n",
    "def plotit():\n",
    "    ans=[]\n",
    "    gamma = np.linspace(0.5,3,30)\n",
    "    for i in gamma:\n",
    "        xs= [newfunc(x,i) for x in x]\n",
    "        ans.append(bigFunc(newfunc,100,i))\n",
    "    plt.plot(gamma,ans)\n",
    "    \n",
    "plotit();     "
   ]
  },
  {
   "cell_type": "markdown",
   "metadata": {
    "collapsed": true
   },
   "source": [
    "5.3) (Optional) Prove the relation you found in 5.2)"
   ]
  },
  {
   "cell_type": "code",
   "execution_count": null,
   "metadata": {},
   "outputs": [],
   "source": []
  }
 ],
 "metadata": {
  "kernelspec": {
   "display_name": "Python 3",
   "language": "python",
   "name": "python3"
  },
  "language_info": {
   "codemirror_mode": {
    "name": "ipython",
    "version": 3
   },
   "file_extension": ".py",
   "mimetype": "text/x-python",
   "name": "python",
   "nbconvert_exporter": "python",
   "pygments_lexer": "ipython3",
   "version": "3.6.4"
  },
  "toc": {
   "colors": {
    "hover_highlight": "#DAA520",
    "running_highlight": "#FF0000",
    "selected_highlight": "#FFD700"
   },
   "moveMenuLeft": true,
   "nav_menu": {
    "height": "30px",
    "width": "252px"
   },
   "navigate_menu": true,
   "number_sections": false,
   "sideBar": true,
   "threshold": 4,
   "toc_cell": false,
   "toc_section_display": "block",
   "toc_window_display": false
  }
 },
 "nbformat": 4,
 "nbformat_minor": 1
}

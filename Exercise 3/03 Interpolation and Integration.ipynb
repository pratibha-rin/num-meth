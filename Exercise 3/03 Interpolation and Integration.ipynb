{
 "cells": [
  {
   "cell_type": "markdown",
   "metadata": {},
   "source": [
    "## Exercise Interpolation"
   ]
  },
  {
   "cell_type": "code",
   "execution_count": 2,
   "metadata": {},
   "outputs": [],
   "source": [
    "%matplotlib inline\n",
    "import math\n",
    "import numpy as np\n",
    "from matplotlib import pyplot as plt"
   ]
  },
  {
   "cell_type": "markdown",
   "metadata": {},
   "source": [
    "1) Plot these four points (2,3), (3,1), (4,2), (5,2)."
   ]
  },
  {
   "cell_type": "code",
   "execution_count": 7,
   "metadata": {},
   "outputs": [
    {
     "data": {
      "image/png": "[encoded data removed]",
      "text/plain": [
       "<matplotlib.figure.Figure at 0x11a864710>"
      ]
     },
     "metadata": {},
     "output_type": "display_data"
    }
   ],
   "source": [
    "xs = [2,3,4,5]\n",
    "ys = [3,1,2,2]\n",
    "plt.plot(xs,ys,color = 'darkgreen',linestyle ='none',marker='o')\n",
    "plt.grid()\n",
    "\n"
   ]
  },
  {
   "cell_type": "markdown",
   "metadata": {},
   "source": [
    "2) Find the polynomial of degree 3 that pass through these four points. Plot to verify."
   ]
  },
  {
   "cell_type": "code",
   "execution_count": 15,
   "metadata": {},
   "outputs": [
    {
     "data": {
      "image/png": "[encoded data removed]",
      "text/plain": [
       "<matplotlib.figure.Figure at 0x1173d1438>"
      ]
     },
     "metadata": {},
     "output_type": "display_data"
    }
   ],
   "source": [
    "x = [2,3,4,5]\n",
    "y = [3,1,2,2]\n",
    "plt.plot(x,y,color = 'darkgreen',linestyle ='none',marker='o')\n",
    "xs = np.linspace(2,5,100)\n",
    "ys= 3*(((xs-3)*(xs-4)*(xs-5))/-6) + (((xs-2)*(xs-4)*(xs-5))/2) + 2*(((xs-5)*(xs-2)*(xs-3))/-2) + 2*(((xs-2)*(xs-3)*(xs-4))/6)\n",
    "plt.plot(xs,ys,color ='red')\n",
    "plt.grid()\n",
    "    "
   ]
  },
  {
   "cell_type": "markdown",
   "metadata": {},
   "source": [
    "3) Find polynomial of degree 3 that pass through these four points. Plot to verify.\n",
    "\n",
    "(1,2) (2,0) (3,2) (7,1)"
   ]
  },
  {
   "cell_type": "code",
   "execution_count": null,
   "metadata": {
    "collapsed": true
   },
   "outputs": [],
   "source": []
  },
  {
   "cell_type": "markdown",
   "metadata": {},
   "source": [
    "4) Write a function `ledendre(x)` which compute the legendre polynomial given the list of x values in xs and y values in ys.\n",
    "\n",
    "`legendre(1.5)`\n",
    "\n",
    "should have the same value as the polymial you found in 3) evaluated at x=1.5.\n",
    "\n",
    "For those of you who know functional programming try write a functor that return a polynomial."
   ]
  },
  {
   "cell_type": "code",
   "execution_count": 21,
   "metadata": {},
   "outputs": [],
   "source": [
    "def make_legendre(xs, ys):\n",
    "    def legendre(x):\n",
    "        result = 0\n",
    "        for ix1, x1 in enumerate(xs):\n",
    "            w = 1\n",
    "            for ix2, x2 in enumerate(xs):\n",
    "                if ix1 != ix2:\n",
    "                    w*=(x-x2)/(x1-x2)\n",
    "            result += w*ys[ix1]\n",
    "        return result\n",
    "    return legendre"
   ]
  },
  {
   "cell_type": "markdown",
   "metadata": {},
   "source": [
    "5) Now sample 11 points  from $f(x) = \\sin(x)$ for for $x\\in[0, \\pi]$. Plot $\\sin(x)$ along with those 11 points. Make sure your $\\sin(x)$ is plotted with more than 100 points"
   ]
  },
  {
   "cell_type": "code",
   "execution_count": null,
   "metadata": {},
   "outputs": [],
   "source": [
    "xs = np.linspace(0,math.pi,11)\n",
    "ys = np.sin(200*xs)\n",
    "plt.plot()"
   ]
  },
  {
   "cell_type": "markdown",
   "metadata": {},
   "source": [
    "6) Plot legendre polynomial for these points. How similar is it to $\\sin(x)$ function. Make sure your legendre is plotte with at least 100 points."
   ]
  },
  {
   "cell_type": "code",
   "execution_count": null,
   "metadata": {
    "collapsed": true
   },
   "outputs": [],
   "source": []
  },
  {
   "cell_type": "markdown",
   "metadata": {},
   "source": [
    "7) Now sample 11 points  from $f(x) = \\sin(200x)$ for for $x\\in[0, \\pi]$. Plot $\\sin(200*x)$ along with those 11 points. Note the 200. Then plot legendre polynomial for these points."
   ]
  },
  {
   "cell_type": "code",
   "execution_count": null,
   "metadata": {},
   "outputs": [],
   "source": []
  },
  {
   "cell_type": "markdown",
   "metadata": {},
   "source": [
    "8) Does it pass through all the point? Does it look like the original function?"
   ]
  },
  {
   "cell_type": "code",
   "execution_count": null,
   "metadata": {
    "collapsed": true
   },
   "outputs": [],
   "source": []
  },
  {
   "cell_type": "markdown",
   "metadata": {},
   "source": [
    "## Exercise Integration"
   ]
  },
  {
   "cell_type": "markdown",
   "metadata": {},
   "source": [
    "0) What is $$ \\int \\limits_{x=1}^{x=3} x^3 \\; dx $$"
   ]
  },
  {
   "cell_type": "code",
   "execution_count": 55,
   "metadata": {},
   "outputs": [
    {
     "data": {
      "text/plain": [
       "(20.0, 2.220446049250313e-13)"
      ]
     },
     "execution_count": 55,
     "metadata": {},
     "output_type": "execute_result"
    }
   ],
   "source": [
    "from scipy.integrate import quad\n",
    "def f(x):\n",
    "    return x**3\n",
    "\n",
    "quad(f,1,3)"
   ]
  },
  {
   "cell_type": "code",
   "execution_count": 46,
   "metadata": {},
   "outputs": [],
   "source": [
    "def f(x):\n",
    "    return x**3\n",
    "def trapezoid(f,a,b,n):\n",
    "    h = (b-a)/n\n",
    "    summ=0\n",
    "    for i in range(1,n):\n",
    "        summ += f(a+ (i*h))\n",
    "        \n",
    "    return (h/2)*(f(a)+(2*summ)+f(b))"
   ]
  },
  {
   "cell_type": "markdown",
   "metadata": {},
   "source": [
    "1)Use Trapezoid Rule to calculate\n",
    "\n",
    "$$ \\int \\limits_{x=1}^{x=3} x^3 \\; dx $$\n",
    "\n",
    "Using 1 piece."
   ]
  },
  {
   "cell_type": "code",
   "execution_count": 49,
   "metadata": {},
   "outputs": [
    {
     "data": {
      "text/plain": [
       "28.0"
      ]
     },
     "execution_count": 49,
     "metadata": {},
     "output_type": "execute_result"
    }
   ],
   "source": [
    "trapezoid(f,1,3,1)"
   ]
  },
  {
   "cell_type": "markdown",
   "metadata": {},
   "source": [
    "2)Use Trapezoid Rule to calculate\n",
    "\n",
    "$$ \\int \\limits_{x=1}^{x=3} x^3 \\; dx $$\n",
    "\n",
    "Using 100 pieces."
   ]
  },
  {
   "cell_type": "code",
   "execution_count": 48,
   "metadata": {},
   "outputs": [
    {
     "data": {
      "text/plain": [
       "20.0008"
      ]
     },
     "execution_count": 48,
     "metadata": {},
     "output_type": "execute_result"
    }
   ],
   "source": [
    "trapezoid(f,1,3,100)"
   ]
  },
  {
   "cell_type": "markdown",
   "metadata": {},
   "source": [
    "3) What is the bound on error for 1)?"
   ]
  },
  {
   "cell_type": "code",
   "execution_count": 57,
   "metadata": {},
   "outputs": [
    {
     "data": {
      "text/plain": [
       "12.0"
      ]
     },
     "execution_count": 57,
     "metadata": {},
     "output_type": "execute_result"
    }
   ],
   "source": [
    "#3**4/4 - 1/4\n",
    "#using the formula : trapezoid +- (b-a)^3/12n^2 * f\"(§) where § is [1,3] in part 1\n",
    "((3-1)**3)/(12) * (6*3)"
   ]
  },
  {
   "cell_type": "markdown",
   "metadata": {},
   "source": [
    "4) What is the bound on error for 2)?"
   ]
  },
  {
   "cell_type": "code",
   "execution_count": 59,
   "metadata": {},
   "outputs": [
    {
     "data": {
      "text/plain": [
       "0.0012000000000000001"
      ]
     },
     "execution_count": 59,
     "metadata": {},
     "output_type": "execute_result"
    }
   ],
   "source": [
    "((3-1)**3)/(12*(100**2)) * (6*3)"
   ]
  },
  {
   "cell_type": "markdown",
   "metadata": {},
   "source": [
    "5) Compute the following integral\n",
    "$$ \\int \\limits_{x=0}^{x=1} e^{-x} \\sin(x^2) \\; dx $$\n",
    "\n",
    "using 100 sub divisions. This is one of those integral you can't do by hands. "
   ]
  },
  {
   "cell_type": "code",
   "execution_count": 64,
   "metadata": {},
   "outputs": [
    {
     "data": {
      "text/plain": [
       "0.15091330026867264"
      ]
     },
     "execution_count": 64,
     "metadata": {},
     "output_type": "execute_result"
    }
   ],
   "source": [
    "def f(x):\n",
    "    return math.exp(-x) * math.sin(x**2)\n",
    "\n",
    "trapezoid(f,0,1,100)\n"
   ]
  },
  {
   "cell_type": "markdown",
   "metadata": {},
   "source": [
    "6) If we want compute\n",
    "$$ \\int \\limits_{x=0}^{x=1} e^{-x} \\; dx $$\n",
    "that is at most $10^{-6}$ away from the real answer. How many subdivisions do we need?"
   ]
  },
  {
   "cell_type": "code",
   "execution_count": 68,
   "metadata": {},
   "outputs": [
    {
     "data": {
      "text/plain": [
       "0.6321206115052712"
      ]
     },
     "execution_count": 68,
     "metadata": {},
     "output_type": "execute_result"
    }
   ],
   "source": [
    "def f(x):\n",
    "    return math.exp(-x)\n",
    "# 1/n^2 = 10^(-6)\n",
    "\n",
    "trapezoid(f,0,1,1000)"
   ]
  },
  {
   "cell_type": "markdown",
   "metadata": {},
   "source": [
    "7) Compute the integral above and make sure your answer is at most $10^{-6}$ away from the real answer. "
   ]
  },
  {
   "cell_type": "code",
   "execution_count": 67,
   "metadata": {},
   "outputs": [
    {
     "data": {
      "text/plain": [
       "0.6321206115052712"
      ]
     },
     "execution_count": 67,
     "metadata": {},
     "output_type": "execute_result"
    }
   ],
   "source": [
    "trapezoid(f,0,1,1000)"
   ]
  }
 ],
 "metadata": {
  "kernelspec": {
   "display_name": "Python 3",
   "language": "python",
   "name": "python3"
  },
  "language_info": {
   "codemirror_mode": {
    "name": "ipython",
    "version": 3
   },
   "file_extension": ".py",
   "mimetype": "text/x-python",
   "name": "python",
   "nbconvert_exporter": "python",
   "pygments_lexer": "ipython3",
   "version": "3.6.4"
  },
  "toc": {
   "colors": {
    "hover_highlight": "#DAA520",
    "running_highlight": "#FF0000",
    "selected_highlight": "#FFD700"
   },
   "moveMenuLeft": true,
   "nav_menu": {
    "height": "48px",
    "width": "251px"
   },
   "navigate_menu": true,
   "number_sections": false,
   "sideBar": true,
   "threshold": 4,
   "toc_cell": false,
   "toc_section_display": "block",
   "toc_window_display": false
  }
 },
 "nbformat": 4,
 "nbformat_minor": 1
}
